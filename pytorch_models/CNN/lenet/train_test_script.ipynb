{
 "cells": [
  {
   "cell_type": "code",
   "execution_count": null,
   "metadata": {},
   "outputs": [],
   "source": [
    "%matplotlib inline\n",
    "import collections\n",
    "\n",
    "import matplotlib.pyplot as plt\n",
    "import torch\n",
    "import torchmetrics\n",
    "import torchsummary\n",
    "import torchvision\n",
    "\n",
    "from pytorch_models.utils.dataset import get_loader, sample_first\n",
    "from pytorch_models.utils.metrics import plot_metric, pretty_print_metrics\n",
    "from pytorch_models.utils.train_validation import train, validate_one_epoch"
   ]
  },
  {
   "cell_type": "markdown",
   "metadata": {},
   "source": [
    "# Constants\n"
   ]
  },
  {
   "cell_type": "code",
   "execution_count": null,
   "metadata": {},
   "outputs": [],
   "source": [
    "# Data\n",
    "dataset_location: str = \"../data\"\n",
    "batch_size: int = 256\n",
    "train_validation_split: float = 0.7\n",
    "\n",
    "# Torch\n",
    "device: torch.device = torch.device(\"cuda\" if torch.cuda.is_available() else \"cpu\")\n",
    "\n",
    "# Training\n",
    "epochs: int = 20"
   ]
  },
  {
   "cell_type": "markdown",
   "metadata": {},
   "source": [
    "# Load data\n",
    "\n",
    "Load the MNIST dataset from torchvision and apply padding and normalisation as part of the transform.\n"
   ]
  },
  {
   "cell_type": "code",
   "execution_count": null,
   "metadata": {},
   "outputs": [],
   "source": [
    "transform = torchvision.transforms.Compose(\n",
    "    [\n",
    "        torchvision.transforms.Pad(2),\n",
    "        torchvision.transforms.ToTensor(),\n",
    "        torchvision.transforms.Normalize(0.5, 0.5),\n",
    "    ]\n",
    ")"
   ]
  },
  {
   "cell_type": "code",
   "execution_count": null,
   "metadata": {},
   "outputs": [],
   "source": [
    "train_validation_data = torchvision.datasets.MNIST(\n",
    "    dataset_location, transform=transform, download=True\n",
    ")\n",
    "train_data, validation_data = torch.utils.data.random_split(\n",
    "    train_validation_data, [train_validation_split, 1 - train_validation_split]\n",
    ")\n",
    "test_data = torchvision.datasets.MNIST(\n",
    "    dataset_location, train=False, transform=transform, download=True\n",
    ")\n",
    "\n",
    "num_classes = len(train_validation_data.classes)"
   ]
  },
  {
   "cell_type": "code",
   "execution_count": null,
   "metadata": {},
   "outputs": [],
   "source": [
    "train_loader = get_loader(train_data, batch_size)\n",
    "validation_loader = get_loader(validation_data, batch_size)\n",
    "test_loader = get_loader(test_data, batch_size)"
   ]
  },
  {
   "cell_type": "code",
   "execution_count": null,
   "metadata": {},
   "outputs": [],
   "source": [
    "image, label = sample_first(train_loader, train_validation_data.classes)\n",
    "print(f\"Class: {label}\")\n",
    "plt.imshow(image);"
   ]
  },
  {
   "cell_type": "markdown",
   "metadata": {},
   "source": [
    "# Original\n",
    "\n",
    "## Training\n"
   ]
  },
  {
   "cell_type": "code",
   "execution_count": null,
   "metadata": {},
   "outputs": [],
   "source": [
    "from original.lenet import LeNet5\n",
    "\n",
    "# Model\n",
    "model = LeNet5().to(device)\n",
    "torchsummary.summary(model, (1, 32, 32))"
   ]
  },
  {
   "cell_type": "code",
   "execution_count": null,
   "metadata": {},
   "outputs": [],
   "source": [
    "from original.manual_scheduler import ManualLRScheduler\n",
    "\n",
    "# Optimizer and scheduler\n",
    "learning_rates: list[float] = [5e-4, 2e-4, 1e-4, 5e-5, 1e-5]\n",
    "counts: list[int] = [2, 3, 3, 4]\n",
    "\n",
    "manual_lr_scheduler = ManualLRScheduler(learning_rates, counts)\n",
    "optimizer = torch.optim.Adam(model.parameters(), lr=learning_rates[0])\n",
    "scheduler = torch.optim.lr_scheduler.LambdaLR(optimizer, manual_lr_scheduler.step)"
   ]
  },
  {
   "cell_type": "code",
   "execution_count": null,
   "metadata": {},
   "outputs": [],
   "source": [
    "class ArgminAccuracy(torchmetrics.Metric):\n",
    "    correct: torch.Tensor\n",
    "\n",
    "    def __init__(self, **kwargs):\n",
    "        super().__init__(**kwargs)\n",
    "        self.add_state(\"correct\", default=torch.tensor(0), dist_reduce_fx=\"sum\")\n",
    "        self.add_state(\"total\", default=torch.tensor(0), dist_reduce_fx=\"sum\")\n",
    "\n",
    "    def update(self, preds: torch.Tensor, target: torch.Tensor) -> None:\n",
    "        if len(preds) != len(target):\n",
    "            raise ValueError(\"preds and target must have the same length\")\n",
    "\n",
    "        self.correct += (torch.argmin(preds, dim=1) == target).sum()\n",
    "        self.total += target.numel()\n",
    "\n",
    "    def compute(self) -> torch.Tensor:\n",
    "        return self.correct.float() / self.total"
   ]
  },
  {
   "cell_type": "code",
   "execution_count": null,
   "metadata": {},
   "outputs": [],
   "source": [
    "train_history = collections.defaultdict(list)\n",
    "validation_history = collections.defaultdict(list)\n",
    "\n",
    "train_metrics = torchmetrics.MetricCollection(\n",
    "    {\n",
    "        \"accuracy\": ArgminAccuracy(),\n",
    "    }\n",
    ").to(device)\n",
    "validation_metrics = train_metrics.clone()\n",
    "\n",
    "train(\n",
    "    model,\n",
    "    optimizer,\n",
    "    scheduler,\n",
    "    train_loader,\n",
    "    train_history,\n",
    "    validation_loader,\n",
    "    validation_history,\n",
    "    epochs,\n",
    "    LeNet5.loss,\n",
    "    train_validation_data.classes,\n",
    "    train_metrics,\n",
    "    validation_metrics,\n",
    "    device,\n",
    ")"
   ]
  },
  {
   "cell_type": "code",
   "execution_count": null,
   "metadata": {},
   "outputs": [],
   "source": [
    "plot_metric({\"Training\": train_history, \"Validation\": validation_history}, \"loss\")"
   ]
  },
  {
   "cell_type": "code",
   "execution_count": null,
   "metadata": {},
   "outputs": [],
   "source": [
    "plot_metric({\"Training\": train_history, \"Validation\": validation_history}, \"accuracy\")"
   ]
  },
  {
   "cell_type": "markdown",
   "metadata": {},
   "source": [
    "## Testing\n"
   ]
  },
  {
   "cell_type": "code",
   "execution_count": null,
   "metadata": {},
   "outputs": [],
   "source": [
    "test_metrics = train_metrics.clone()\n",
    "\n",
    "cifar_test_loss = validate_one_epoch(\n",
    "    model, test_loader, LeNet5.loss, num_classes, test_metrics, device, \"Testing\"\n",
    ")\n",
    "\n",
    "test_history = {\"loss\": [cifar_test_loss]} | {\n",
    "    metric: [history.to(\"cpu\")] for metric, history in test_metrics.compute().items()\n",
    "}\n",
    "pretty_print_metrics(test_history, train_validation_data.classes)"
   ]
  },
  {
   "cell_type": "markdown",
   "metadata": {},
   "source": [
    "# Modern\n",
    "\n",
    "## Training\n"
   ]
  },
  {
   "cell_type": "code",
   "execution_count": null,
   "metadata": {},
   "outputs": [],
   "source": [
    "from modern.lenet import LeNet5\n",
    "\n",
    "# Model\n",
    "model = LeNet5().to(device)\n",
    "torchsummary.summary(model, (1, 32, 32))\n",
    "loss_fn = torch.nn.CrossEntropyLoss(reduction=\"sum\")"
   ]
  },
  {
   "cell_type": "code",
   "execution_count": null,
   "metadata": {},
   "outputs": [],
   "source": [
    "# Optimizer\n",
    "optimizer = torch.optim.Adam(model.parameters(), 1e-4)\n",
    "scheduler = torch.optim.lr_scheduler.ConstantLR(optimizer)"
   ]
  },
  {
   "cell_type": "code",
   "execution_count": null,
   "metadata": {},
   "outputs": [],
   "source": [
    "train_history = collections.defaultdict(list)\n",
    "validation_history = collections.defaultdict(list)\n",
    "\n",
    "train_metrics = torchmetrics.MetricCollection(\n",
    "    {\n",
    "        \"accuracy\": torchmetrics.Accuracy(\n",
    "            \"multiclass\",\n",
    "            num_classes=num_classes,\n",
    "            average=\"micro\",\n",
    "        ),\n",
    "    }\n",
    ").to(device)\n",
    "validation_metrics = train_metrics.clone()\n",
    "\n",
    "train(\n",
    "    model,\n",
    "    optimizer,\n",
    "    scheduler,\n",
    "    train_loader,\n",
    "    train_history,\n",
    "    validation_loader,\n",
    "    validation_history,\n",
    "    epochs,\n",
    "    loss_fn,\n",
    "    train_validation_data.classes,\n",
    "    train_metrics,\n",
    "    validation_metrics,\n",
    "    device,\n",
    ")"
   ]
  },
  {
   "cell_type": "code",
   "execution_count": null,
   "metadata": {},
   "outputs": [],
   "source": [
    "plot_metric({\"Training\": train_history, \"Validation\": validation_history}, \"loss\")"
   ]
  },
  {
   "cell_type": "code",
   "execution_count": null,
   "metadata": {},
   "outputs": [],
   "source": [
    "plot_metric({\"Training\": train_history, \"Validation\": validation_history}, \"accuracy\")"
   ]
  },
  {
   "cell_type": "code",
   "execution_count": null,
   "metadata": {},
   "outputs": [],
   "source": [
    "test_metrics = train_metrics.clone()\n",
    "\n",
    "cifar_test_loss = validate_one_epoch(\n",
    "    model, test_loader, loss_fn, num_classes, test_metrics, device, \"Testing\"\n",
    ")\n",
    "\n",
    "test_history = {\"loss\": [cifar_test_loss]} | {\n",
    "    metric: [history.to(\"cpu\")] for metric, history in test_metrics.compute().items()\n",
    "}\n",
    "pretty_print_metrics(test_history, train_validation_data.classes)"
   ]
  },
  {
   "cell_type": "markdown",
   "metadata": {},
   "source": [
    "## Feature Maps\n"
   ]
  },
  {
   "cell_type": "code",
   "execution_count": null,
   "metadata": {},
   "outputs": [],
   "source": [
    "feature_maps = []\n",
    "image_data, _ = next(iter(test_loader))\n",
    "\n",
    "with torch.inference_mode():\n",
    "    model(image_data.to(device), feature_maps)"
   ]
  },
  {
   "cell_type": "code",
   "execution_count": null,
   "metadata": {},
   "outputs": [],
   "source": [
    "def display_feature_map(feature_map: torch.Tensor, num_cols: int):\n",
    "    num_maps = len(feature_map)\n",
    "    num_rows = (num_maps + num_cols - 1) // num_cols\n",
    "\n",
    "    fig, ax = plt.subplots(num_rows, num_cols)\n",
    "    for i, image in enumerate(feature_map):\n",
    "        ax[i // num_cols, i % num_cols].imshow(image.to(\"cpu\"))\n",
    "        ax[i // num_cols, i % num_cols].axis(\"off\")\n",
    "\n",
    "    plt.show()"
   ]
  },
  {
   "cell_type": "code",
   "execution_count": null,
   "metadata": {},
   "outputs": [],
   "source": [
    "def display_all(image_data: torch.Tensor, feature_maps: list[torch.Tensor], i: int):\n",
    "    ax = plt.gca()\n",
    "    ax.axis(\"off\")\n",
    "    plt.imshow(image_data[i].squeeze())\n",
    "    display_feature_map(feature_maps[0][i], 3)\n",
    "    display_feature_map(feature_maps[1][i], 4)"
   ]
  },
  {
   "cell_type": "code",
   "execution_count": null,
   "metadata": {},
   "outputs": [],
   "source": [
    "display_all(image_data, feature_maps, 0)"
   ]
  }
 ],
 "metadata": {
  "kernelspec": {
   "display_name": ".venv",
   "language": "python",
   "name": "python3"
  },
  "language_info": {
   "name": "python",
   "version": "3.13.2"
  }
 },
 "nbformat": 4,
 "nbformat_minor": 2
}
